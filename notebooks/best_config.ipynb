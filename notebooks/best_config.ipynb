{
 "cells": [
  {
   "cell_type": "code",
   "execution_count": null,
   "metadata": {},
   "outputs": [],
   "source": [
    "import pandas as pd\n",
    "import numpy as np\n",
    "from scipy.stats.mstats import gmean"
   ]
  },
  {
   "cell_type": "code",
   "execution_count": null,
   "metadata": {},
   "outputs": [],
   "source": [
    "core = 'HP'\n",
    "#core = 'A76'\n",
    "wblock = 8\n",
    "bench = ['intNN', 'streamvbyte', 'cartoon', 'sqnrm2', 'amax', 'gemv', 'gemm', 'fft', 'conv', 'median',\n",
    "         'hist', 'img_integral', 'canny', 'erode']\n",
    "bench_paper = ['intNN', 'streamvbyte', 'cartoon', 'sqnrm2', 'amax', 'gemm', 'fft', 'conv', 'median',\n",
    "               'img_integral', 'canny', 'erode']\n",
    "modes = ['Original', 'Packing', 'Fusing', 'PackingPenalty', 'FusingPenalty']"
   ]
  },
  {
   "cell_type": "code",
   "execution_count": null,
   "metadata": {},
   "outputs": [],
   "source": [
    "th = 1.10"
   ]
  },
  {
   "cell_type": "code",
   "execution_count": null,
   "metadata": {},
   "outputs": [],
   "source": [
    "# Create best config table.\n",
    "\n",
    "df = pd.read_csv('./tables/results_diffenergy_time.csv', header=0)\n",
    "df = df.set_index(['Benchmark', 'CPU', 'Width Block', 'Mode', 'SIMD FU', 'Metric'])\n",
    "df = df.xs((core, wblock), level=[1, 2])\n",
    "df = df.loc(axis=0)[:, :, :, ['Total', 'Time']]\n",
    "df = df.unstack().loc(axis=1)['Value']\n",
    "s_th = df[df['Time'] <= th].groupby(['Benchmark', 'Mode'])['Total'].idxmin()\n",
    "s_best_time = df.groupby(['Benchmark', 'Mode'])['Time'].idxmin()\n",
    "df = df.loc[s_th.combine_first(s_best_time)]\n",
    "df = df.reset_index(level=2)\n",
    "df = df.unstack().reorder_levels(['Mode', 'Metric'], axis=1).sort_index(axis=1)\n",
    "df"
   ]
  },
  {
   "cell_type": "code",
   "execution_count": null,
   "metadata": {},
   "outputs": [],
   "source": [
    "# Get best config table (for thesis and paper).\n",
    "\n",
    "def get_best_config(df, bench):\n",
    "    df = df.copy()\n",
    "    \n",
    "    df = df.reindex(index=bench)\n",
    "    df.loc(axis=0)['average'] = gmean(df)\n",
    "    df.loc(axis=1)[:, 'SIMD FU'] = df.loc(axis=1)[:, 'SIMD FU'].astype(int).astype(str)\n",
    "    df.loc['average', (slice(None), 'SIMD FU')] = '---'\n",
    "    df.loc(axis=1)[:, 'Total'] = 100 * (1 - df.loc(axis=1)[:, 'Total'])\n",
    "    df = df.reindex(columns=modes, level=0)\n",
    "    df = df.reindex(columns=['SIMD FU', 'Total', 'Time'], level=1)\n",
    "    df.loc(axis=1)[:, 'Time'] = df.loc(axis=1)[:, 'Time'].round(2)\n",
    "    df.loc(axis=1)[:, 'Total'] = df.loc(axis=1)[:, 'Total'].round(1)\n",
    "    df = df.rename(columns={'Total':'Save [%]', 'SIMD FU':'Units'}, level=1)\n",
    "    \n",
    "    return df\n",
    "\n",
    "df_thesis = get_best_config(df, bench)\n",
    "df_paper = get_best_config(df, bench_paper)"
   ]
  },
  {
   "cell_type": "code",
   "execution_count": null,
   "metadata": {},
   "outputs": [],
   "source": [
    "# Save tables to .csv and .tex\n",
    "\n",
    "# Thesis\n",
    "df_thesis.to_latex('./tables/best_{}_thesis.tex'.format(core.lower()), index_names=False,\n",
    "                  column_format=(1 + len(df_thesis.columns))*'c',\n",
    "                  multicolumn_format='c')\n",
    "df_thesis.to_csv('./tables/best_{}_thesis.csv'.format(core.lower()))\n",
    "\n",
    "# Paper\n",
    "df_paper.to_latex('./tables/best_{}_paper.tex'.format(core.lower()), index_names=False,\n",
    "                  column_format=(1 + len(df_paper.columns))*'c',\n",
    "                  multicolumn_format='c')\n",
    "df_paper.to_csv('./tables/best_{}_paper.csv'.format(core.lower()))"
   ]
  },
  {
   "cell_type": "code",
   "execution_count": null,
   "metadata": {},
   "outputs": [],
   "source": []
  }
 ],
 "metadata": {
  "kernelspec": {
   "display_name": "Python 3.6.10 64-bit",
   "language": "python",
   "name": "python361064bit9619714ec1c84823b30cedda6e1a174a"
  },
  "language_info": {
   "codemirror_mode": {
    "name": "ipython",
    "version": 3
   },
   "file_extension": ".py",
   "mimetype": "text/x-python",
   "name": "python",
   "nbconvert_exporter": "python",
   "pygments_lexer": "ipython3",
   "version": "3.6.10-final"
  }
 },
 "nbformat": 4,
 "nbformat_minor": 4
}