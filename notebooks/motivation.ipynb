{
 "cells": [
  {
   "cell_type": "code",
   "execution_count": null,
   "metadata": {},
   "outputs": [],
   "source": [
    "from pathlib import Path\n",
    "import pandas as pd\n",
    "import altair as alt"
   ]
  },
  {
   "cell_type": "code",
   "execution_count": null,
   "metadata": {},
   "outputs": [],
   "source": [
    "config = 'HP-3fu-nofuse'"
   ]
  },
  {
   "cell_type": "code",
   "execution_count": null,
   "metadata": {
    "jupyter": {
     "source_hidden": true
    }
   },
   "outputs": [],
   "source": [
    "benchmarks = {\n",
    "    'hmmer-small_0':'hmmer',\n",
    "    'libquantum-small_0':'libquantum',\n",
    "    #'blackscholes_simsmall_1_0':'blackscholes',\n",
    "    'freqmine_simsmall_1_0':'freqmine',\n",
    "    'swaptions_simsmall_1_0':'swaptions',\n",
    "    'barnes_simsmall_1_0':'barnes',\n",
    "    #'cholesky_simsmall_1_0':'cholesky',\n",
    "    'fft_simsmall_1_0':'fft-splash',\n",
    "    #'fmm_simsmall_1_0':'fmm',\n",
    "    #'ocean_cp_simsmall_1_0':'ocean',\n",
    "    #'radix_simsmall_1_0':'radix',\n",
    "    'raytrace_simsmall_1_0':'raytrace',\n",
    "    #'water_nsquared_simsmall_1_0':'water_nsquared',\n",
    "    #'water_spatial_simsmall_1_0':'water_spatial',\n",
    "    'integerNN_0':'integerNN',\n",
    "    'streamvbyte_0':'streamvbyte',\n",
    "    'img_cartoon_image1_0':'cartoon',\n",
    "    'img_cartoon_image2_0':'cartoon',\n",
    "    'img_cartoon_image3_0':'cartoon',\n",
    "    'img_cartoon_image4_0':'cartoon',\n",
    "    'img_cartoon_image5_0':'cartoon',\n",
    "    'img_canny_image1_0':'canny',\n",
    "    'img_canny_image2_0':'canny',\n",
    "    'img_canny_image3_0':'canny',\n",
    "    'img_canny_image4_0':'canny',\n",
    "    'img_canny_image5_0':'canny',\n",
    "    'img_hist_image1_0':'hist',\n",
    "    'img_hist_image2_0':'hist',\n",
    "    'img_hist_image3_0':'hist',\n",
    "    'img_hist_image4_0':'hist',\n",
    "    'img_hist_image5_0':'hist',\n",
    "    'img_integral_image1_0':'img_integral',\n",
    "    'img_integral_image2_0':'img_integral',\n",
    "    'img_integral_image3_0':'img_integral',\n",
    "    'img_integral_image4_0':'img_integral',\n",
    "    'img_integral_image5_0':'img_integral',\n",
    "    'conv_image1_0':'conv',\n",
    "    'conv_image2_0':'conv',\n",
    "    'conv_image3_0':'conv',\n",
    "    'conv_image4_0':'conv',\n",
    "    'conv_image5_0':'conv',\n",
    "    'img_erode_image1_0':'erode',\n",
    "    'img_erode_image2_0':'erode',\n",
    "    'img_erode_image3_0':'erode',\n",
    "    'img_erode_image4_0':'erode',\n",
    "    'img_erode_image5_0':'erode',\n",
    "    'img_median_image1_0':'median',\n",
    "    'img_median_image2_0':'median',\n",
    "    'img_median_image3_0':'median',\n",
    "    'img_median_image4_0':'median',\n",
    "    'img_median_image5_0':'median',\n",
    "    #'img_yuv444_image1_0':'img_yuv444',\n",
    "    #'img_yuv444_image2_0':'img_yuv444',\n",
    "    #'img_yuv444_image3_0':'img_yuv444',\n",
    "    #'img_yuv444_image4_0':'img_yuv444',\n",
    "    #'img_yuv444_image5_0':'img_yuv444',\n",
    "    'amax_cols_normal_16bit_0_0':'amax',\n",
    "    'amax_cols_normal_16bit_1_0':'amax',\n",
    "    'amax_cols_normal_16bit_2_0':'amax',\n",
    "    'amax_cols_normal_16bit_3_0':'amax',\n",
    "    'amax_cols_normal_16bit_4_0':'amax',\n",
    "    #'asum_cols_normal_16bit_0_0':'asum',\n",
    "    #'asum_cols_normal_16bit_1_0':'asum',\n",
    "    #'asum_cols_normal_16bit_2_0':'asum',\n",
    "    #'asum_cols_normal_16bit_3_0':'asum',\n",
    "    #'asum_cols_normal_16bit_4_0':'asum',\n",
    "    'gemv_normal_16bit_0_0':'gemv',\n",
    "    'gemv_normal_16bit_1_0':'gemv',\n",
    "    'gemv_normal_16bit_2_0':'gemv',\n",
    "    'gemv_normal_16bit_3_0':'gemv',\n",
    "    'gemv_normal_16bit_4_0':'gemv',\n",
    "    'ger_normal_16bit_0_0':'ger',\n",
    "    'ger_normal_16bit_1_0':'ger',\n",
    "    'ger_normal_16bit_2_0':'ger',\n",
    "    'ger_normal_16bit_3_0':'ger',\n",
    "    'ger_normal_16bit_4_0':'ger',\n",
    "    'sqnrm2_cols_normal_16bit_0_0':'sqnrm2',\n",
    "    'sqnrm2_cols_normal_16bit_1_0':'sqnrm2',\n",
    "    'sqnrm2_cols_normal_16bit_2_0':'sqnrm2',\n",
    "    'sqnrm2_cols_normal_16bit_3_0':'sqnrm2',\n",
    "    'sqnrm2_cols_normal_16bit_4_0':'sqnrm2',\n",
    "    'gemm_normal_16bit_0_0':'gemm',\n",
    "    'gemm_normal_16bit_1_0':'gemm',\n",
    "    'gemm_normal_16bit_2_0':'gemm',\n",
    "    'gemm_normal_16bit_3_0':'gemm',\n",
    "    'gemm_normal_16bit_4_0':'gemm',\n",
    "    'fft_normal_8bit_0_0':'fft',\n",
    "    'fft_normal_8bit_1_0':'fft',\n",
    "    'fft_normal_8bit_2_0':'fft',\n",
    "    'fft_normal_8bit_3_0':'fft',\n",
    "    'fft_normal_8bit_4_0':'fft',\n",
    "}\n",
    "\n",
    "bench_order = ['freqmine', 'swaptions', 'swaptions-parvec', 'streamcluster-parvec', 'barnes', 'raytrace', 'fft-splash', 'libquantum', 'hmmer', 'streamvbyte', 'integerNN', 'cartoon', 'ger', 'sqnrm2', 'amax', 'gemv', 'gemm', 'fft', 'conv', 'median', 'hist', 'img_integral', 'canny', 'erode']"
   ]
  },
  {
   "cell_type": "code",
   "execution_count": null,
   "metadata": {},
   "outputs": [],
   "source": [
    "fu_classes = {\n",
    "    'No_OpClass'      :'Int Alu',\n",
    "    'IntAlu'          :'Int Alu',\n",
    "    'IntMult'         :'Int Mult',\n",
    "    'IntDiv'          :'Int Mult',\n",
    "    'FloatAdd'        :'FP',\n",
    "    'FloatCmp'        :'FP',\n",
    "    'FloatCvt'        :'FP',\n",
    "    'FloatMult'       :'FP',\n",
    "    'FloatMultAcc'    :'FP',\n",
    "    'FloatDiv'        :'FP',\n",
    "    'FloatMisc'       :'FP',\n",
    "    'FloatSqrt'       :'FP',\n",
    "    'SimdAdd'         :'Int SIMD',\n",
    "    'SimdAddAcc'      :'Int SIMD',\n",
    "    'SimdAlu'         :'Int SIMD',\n",
    "    'SimdCmp'         :'Int SIMD',\n",
    "    'SimdCvt'         :'Int SIMD',\n",
    "    'SimdMisc'        :'Int SIMD',\n",
    "    'SimdMult'        :'Int SIMD',\n",
    "    'SimdMultAcc'     :'Int SIMD',\n",
    "    'SimdShift'       :'Int SIMD',\n",
    "    'SimdShiftAcc'    :'Int SIMD',\n",
    "    'SimdSqrt'        :'Int SIMD',\n",
    "    'SimdFloatAdd'    :'FP SIMD',\n",
    "    'SimdFloatAlu'    :'FP SIMD',\n",
    "    'SimdFloatCmp'    :'FP SIMD',\n",
    "    'SimdFloatCvt'    :'FP SIMD',\n",
    "    'SimdFloatDiv'    :'FP SIMD',\n",
    "    'SimdFloatMisc'   :'FP SIMD',\n",
    "    'SimdFloatMult'   :'FP SIMD',\n",
    "    'SimdFloatMultAcc':'FP SIMD',\n",
    "    'SimdFloatSqrt'   :'FP SIMD',\n",
    "    'SimdAes'         :'Int SIMD',\n",
    "    'SimdAesMix'      :'Int SIMD',\n",
    "    'SimdSha1Hash'    :'Int SIMD',\n",
    "    'SimdSha1Hash2'   :'Int SIMD',\n",
    "    'SimdSha256Hash'  :'Int SIMD',\n",
    "    'SimdSha256Hash2' :'Int SIMD',\n",
    "    'SimdShaSigma2'   :'Int SIMD',\n",
    "    'SimdShaSigma3'   :'Int SIMD',\n",
    "    'MemRead'         :'Mem',\n",
    "    'MemWrite'        :'Mem',\n",
    "    'FloatMemRead'    :'Mem',\n",
    "    'FloatMemWrite'   :'Mem',\n",
    "    'IprAccess'       :'Int Alu',\n",
    "    'InstPrefetch'    :'Mem'\n",
    "}\n",
    "class_order = ['FP SIMD', 'FP', 'Int SIMD', 'Int Div', 'Int Mult', 'Int Alu', 'Mem']"
   ]
  },
  {
   "cell_type": "code",
   "execution_count": null,
   "metadata": {},
   "outputs": [],
   "source": [
    "filter_bench = ['freqmine', 'swaptions', 'barnes', 'raytrace', 'libquantum', 'ger']"
   ]
  },
  {
   "cell_type": "code",
   "execution_count": null,
   "metadata": {},
   "outputs": [],
   "source": [
    "stats = Path('./stats')\n",
    "stats = list(stats.glob('**/roi.txt'))\n",
    "stats = [s.parent for s in stats]\n",
    "stats = [s for s in stats if s.parents[1].stem == config]"
   ]
  },
  {
   "cell_type": "code",
   "execution_count": null,
   "metadata": {},
   "outputs": [],
   "source": [
    "df_fu_class = {}\n",
    "\n",
    "for s in stats:\n",
    "    p = s/'iq_fu_class.csv'\n",
    "    if p.is_file():\n",
    "        try:\n",
    "            df = pd.read_csv(p)\n",
    "            df_fu_class[s.stem] = df.iloc[0]\n",
    "        except pd.errors.EmptyDataError:\n",
    "            print(\"File {} is empty\".format(p))\n",
    "    else:\n",
    "        print(\"File {} does not exist\".format(p))\n",
    "        \n",
    "df_fu_class = pd.DataFrame.from_dict(df_fu_class, orient='index')"
   ]
  },
  {
   "cell_type": "code",
   "execution_count": null,
   "metadata": {},
   "outputs": [],
   "source": [
    "df_fu_class = df_fu_class.drop(columns=['total'])\n",
    "df_fu_class = 100 * df_fu_class.div(df_fu_class.sum(axis='columns'), axis='rows')\n",
    "df_fu_class"
   ]
  },
  {
   "cell_type": "code",
   "execution_count": null,
   "metadata": {},
   "outputs": [],
   "source": [
    "df_fu_class = df_fu_class.groupby(by=fu_classes, axis='columns').sum()\n",
    "df_fu_class = df_fu_class.groupby(by=benchmarks, axis='rows').mean()\n",
    "df_fu_class"
   ]
  },
  {
   "cell_type": "code",
   "execution_count": null,
   "metadata": {},
   "outputs": [],
   "source": [
    "df_fu_class.index = df_fu_class.index.rename('Benchmark')\n",
    "df_fu_class = df_fu_class.reset_index()\n",
    "df_fu_class"
   ]
  },
  {
   "cell_type": "code",
   "execution_count": null,
   "metadata": {},
   "outputs": [],
   "source": [
    "df2 = df_fu_class.copy()\n",
    "df2 = df2.set_index('Benchmark')\n",
    "s = df2['Int Alu'] + df2['Int Mult'] + df2['Int SIMD']\n",
    "s = s.sort_values()\n",
    "s"
   ]
  },
  {
   "cell_type": "code",
   "execution_count": null,
   "metadata": {},
   "outputs": [],
   "source": [
    "df2['Int SIMD'].sort_values()"
   ]
  },
  {
   "cell_type": "code",
   "execution_count": null,
   "metadata": {},
   "outputs": [],
   "source": [
    "df = pd.melt(df_fu_class, id_vars='Benchmark', var_name='Class', value_name='Issue Percentage')\n",
    "df['Order'] = df['Class'].replace(\n",
    "    {val: i for i, val in enumerate(class_order)}\n",
    ")\n",
    "fig_class = alt.Chart(df).mark_bar(size=20).encode(\n",
    "    x=alt.X(\n",
    "        'Benchmark:N',\n",
    "        axis=alt.Axis(labelAngle=-40),\n",
    "        sort=bench_order\n",
    "    ),\n",
    "    y=alt.Y(\n",
    "        'Issue Percentage:Q',\n",
    "        scale=alt.Scale(domain=(0, 100)),\n",
    "        title=\"Issued instructions [%]\"\n",
    "    ),\n",
    "    color=alt.Color(\n",
    "        'Class:N',\n",
    "        scale=alt.Scale(scheme='set3'),\n",
    "        sort=class_order\n",
    "    ),\n",
    "    order=alt.Order(\n",
    "        'Order:O',\n",
    "        sort='descending'\n",
    "    )\n",
    ").properties(\n",
    "    width=alt.Step(25)\n",
    ").configure_axis(\n",
    "    labelFontSize=12, titleFontSize=14\n",
    ").configure_legend(\n",
    "    titleFontSize=14, labelFontSize=14, orient='right'\n",
    ")\n",
    "fig_class"
   ]
  },
  {
   "cell_type": "code",
   "execution_count": null,
   "metadata": {},
   "outputs": [],
   "source": [
    "# fig_class.save('plots/profile_fu_class.svg', webdriver='firefox')"
   ]
  },
  {
   "cell_type": "code",
   "execution_count": null,
   "metadata": {},
   "outputs": [],
   "source": [
    "df_simd_usage = {}\n",
    "\n",
    "for s in stats:\n",
    "    p = s/'simd_fu_used.csv'\n",
    "    if p.is_file():\n",
    "        try:\n",
    "            df = pd.read_csv(p)\n",
    "            df_simd_usage[s.stem] = df.iloc[0]\n",
    "        except pd.errors.EmptyDataError:\n",
    "            print(\"File {} is empty\".format(p))\n",
    "    else:\n",
    "        print(\"File {} does not exist\".format(p))\n",
    "        \n",
    "df_simd_usage = pd.DataFrame.from_dict(df_simd_usage, orient='index')\n",
    "\n",
    "df_simd_usage = df_simd_usage.drop(columns=['samples', 'mean', 'stdev', 'underflows', 'overflows', 'min_value', 'max_value', 'total'])\n",
    "df_simd_usage = 100 * df_simd_usage.div(df_simd_usage.sum(axis='columns'), axis='rows')\n",
    "\n",
    "df_simd_usage = df_simd_usage.groupby(by=benchmarks, axis='rows').mean()\n",
    "\n",
    "df_simd_usage = df_simd_usage.drop(columns=['0'])\n",
    "\n",
    "df_simd_usage.index = df_simd_usage.index.rename('Benchmark')\n",
    "df_simd_usage = df_simd_usage.reset_index()\n",
    "df_simd_usage"
   ]
  },
  {
   "cell_type": "code",
   "execution_count": null,
   "metadata": {},
   "outputs": [],
   "source": [
    "df = pd.melt(df_simd_usage, id_vars='Benchmark', var_name='Active Units', value_name='Cycles Percentage')\n",
    "fig_simd_usage = alt.Chart(df).mark_bar(size=20).encode(\n",
    "    x=alt.X(\n",
    "        'Benchmark:N',\n",
    "        axis=alt.Axis(labelAngle=-40),\n",
    "        sort=bench_order\n",
    "    ),\n",
    "    y=alt.Y(\n",
    "        'Cycles Percentage:Q',\n",
    "        scale=alt.Scale(domain=(0, 100)),\n",
    "        title='Execution cycles [%]'\n",
    "    ),\n",
    "    color=alt.Color(\n",
    "        'Active Units:N',\n",
    "        scale=alt.Scale(scheme='set2'),\n",
    "        sort='ascending',\n",
    "        title='Active SIMD Units'\n",
    "    )\n",
    ").properties(\n",
    "    width=alt.Step(25)\n",
    ").configure_axis(\n",
    "    labelFontSize=12, titleFontSize=14\n",
    ").configure_legend(\n",
    "    titleFontSize=14, labelFontSize=14, orient='right'\n",
    ")\n",
    "fig_simd_usage"
   ]
  },
  {
   "cell_type": "code",
   "execution_count": null,
   "metadata": {},
   "outputs": [],
   "source": [
    "# fig_simd_usage.save('plots/profile_simd.svg', webdriver='firefox')"
   ]
  },
  {
   "cell_type": "code",
   "execution_count": null,
   "metadata": {},
   "outputs": [],
   "source": [
    "df_width = []\n",
    "\n",
    "for s in stats:\n",
    "    p = s/'statVectorInstTotalWidthByClass.csv'\n",
    "    if p.is_file():\n",
    "        try:\n",
    "            df = pd.read_csv(p)\n",
    "            df['Benchmark'] = s.stem\n",
    "            df_width.append(df)\n",
    "        except pd.errors.EmptyDataError:\n",
    "            print(\"File {} is empty\".format(p))\n",
    "    else:\n",
    "        print(\"File {} does not exist\".format(p))\n",
    "        \n",
    "df_width = pd.concat(df_width, axis='rows', sort=True)\n",
    "\n",
    "df_width = df_width.drop(columns=['max', 'mean', 'min', 'overflows', 'samples', 'stdev', 'total', 'underflows'])\n",
    "#df_width = df_width[~df_width['class'].isin(['NoInfo'])]\n",
    "df_width = df_width[~df_width['class'].isin(['NoInfo', 'SimdNoInfo'])]\n",
    "df_width = df_width.groupby(['Benchmark']).sum()\n",
    "\n",
    "df_width.columns = df_width.columns.str.split('-').str[0].astype('int64')\n",
    "df_width = df_width.sort_index(axis='columns')\n",
    "\n",
    "df_width = 100 * df_width.div(df_width.sum(axis='columns'), axis='rows')\n",
    "df_width = df_width.groupby(by=benchmarks, axis='rows').mean()\n",
    "\n",
    "df_width = df_width[~df_width.index.isin(filter_bench)]"
   ]
  },
  {
   "cell_type": "code",
   "execution_count": null,
   "metadata": {},
   "outputs": [],
   "source": [
    "df_width_group = {\n",
    "    '32':df_width.loc[:, 0:32].sum(axis='columns'),\n",
    "    '64':df_width.loc[:, 40:64].sum(axis='columns'),\n",
    "    '96':df_width.loc[:, 72:96].sum(axis='columns'),\n",
    "    '128':df_width.loc[:, 104:128].sum(axis='columns'),\n",
    "}\n",
    "\n",
    "df_width_group = pd.DataFrame(df_width_group)\n",
    "\n",
    "df_width_group.index = df_width_group.index.rename('Benchmark')\n",
    "df_width_group = df_width_group.reset_index()"
   ]
  },
  {
   "cell_type": "code",
   "execution_count": null,
   "metadata": {},
   "outputs": [],
   "source": [
    "df = pd.melt(df_width_group, id_vars='Benchmark', var_name='Width Range', value_name='SIMD Percentage')\n",
    "\n",
    "df['Width Range'] = pd.to_numeric(df['Width Range'])\n",
    "\n",
    "fig_width = alt.Chart(df).mark_bar(size=20).encode(\n",
    "    x=alt.X(\n",
    "        'Benchmark:N',\n",
    "        axis=alt.Axis(labelAngle=-40),\n",
    "        sort=bench_order\n",
    "    ),\n",
    "    y=alt.Y(\n",
    "        'SIMD Percentage:Q',\n",
    "        scale=alt.Scale(domain=(0, 100)),\n",
    "        title=\"Issued Int SIMD instructions [%]\"\n",
    "    ),\n",
    "    color=alt.Color(\n",
    "        'Width Range:O',\n",
    "        scale=alt.Scale(scheme='yellowgreenblue'),\n",
    "        title=\"Width Range [bits]\"\n",
    "    ),\n",
    "    order=alt.Order(\n",
    "        'Width Range:O',\n",
    "        sort='ascending'\n",
    "    )\n",
    ").properties(\n",
    "    width=alt.Step(25)\n",
    ").configure_axis(\n",
    "    labelFontSize=12, titleFontSize=14\n",
    ").configure_legend(\n",
    "    titleFontSize=14, labelFontSize=14, orient='right'\n",
    ")\n",
    "fig_width"
   ]
  },
  {
   "cell_type": "code",
   "execution_count": null,
   "metadata": {},
   "outputs": [],
   "source": [
    "# fig_width.save('plots/profile_width.svg', webdriver='firefox')"
   ]
  },
  {
   "cell_type": "code",
   "execution_count": null,
   "metadata": {},
   "outputs": [],
   "source": [
    "df2 = df_width_group.copy()\n",
    "df2 = df2.set_index('Benchmark')\n",
    "df3 = df2['32'] + df2['64']\n",
    "df3.sort_values()"
   ]
  },
  {
   "cell_type": "code",
   "execution_count": null,
   "metadata": {},
   "outputs": [],
   "source": [
    "df_width = {}\n",
    "\n",
    "for s in stats:\n",
    "    p = s/'width.csv'\n",
    "    if p.is_file():\n",
    "        try:\n",
    "            df = pd.read_csv(p)\n",
    "            df_width[s.stem] = df.iloc[0]\n",
    "        except pd.errors.EmptyDataError:\n",
    "            print(\"File {} is empty\".format(p))\n",
    "    else:\n",
    "        print(\"File {} does not exist\".format(p))\n",
    "        \n",
    "df_width = pd.DataFrame.from_dict(df_width, orient='index')"
   ]
  },
  {
   "cell_type": "code",
   "execution_count": null,
   "metadata": {},
   "outputs": [],
   "source": [
    "s_used = df_width['total width'] / (df_width['fu used'] * 128)\n",
    "s_used = s_used.groupby(by=benchmarks, axis='rows').mean()\n",
    "s_used = s_used[~s_used.index.isin(filter_bench)]\n",
    "s_used"
   ]
  },
  {
   "cell_type": "code",
   "execution_count": null,
   "metadata": {},
   "outputs": [],
   "source": [
    "s_savings = 100 * (1 - s_used)\n",
    "s_savings"
   ]
  },
  {
   "cell_type": "code",
   "execution_count": null,
   "metadata": {},
   "outputs": [],
   "source": [
    "df_savings = pd.DataFrame(s_savings, columns=['Width Saved'])\n",
    "df_savings.index.name = 'Benchmark'\n",
    "df_savings = df_savings.reset_index()\n",
    "df_savings"
   ]
  },
  {
   "cell_type": "code",
   "execution_count": null,
   "metadata": {},
   "outputs": [],
   "source": [
    "fig_width = alt.Chart(df_savings).mark_bar(size=20).encode(\n",
    "    x=alt.X(\n",
    "        'Benchmark:N',\n",
    "        axis=alt.Axis(labelAngle=-40),\n",
    "        sort=bench_order\n",
    "    ),\n",
    "    y=alt.Y(\n",
    "        'Width Saved:Q',\n",
    "        scale=alt.Scale(domain=(0, 100)),\n",
    "        title=\"Maximum Energy Savings [%]\"\n",
    "    )\n",
    ").properties(\n",
    "    width=alt.Step(25)\n",
    ").configure_axis(\n",
    "    labelFontSize=12, titleFontSize=14\n",
    ")\n",
    "fig_width"
   ]
  },
  {
   "cell_type": "code",
   "execution_count": null,
   "metadata": {},
   "outputs": [],
   "source": [
    "fig_width.save('plots/width_savings.svg', webdriver='firefox')"
   ]
  },
  {
   "cell_type": "code",
   "execution_count": null,
   "metadata": {},
   "outputs": [],
   "source": [
    "fig_width"
   ]
  },
  {
   "cell_type": "code",
   "execution_count": null,
   "metadata": {},
   "outputs": [],
   "source": []
  }
 ],
 "metadata": {
  "kernelspec": {
   "display_name": "Python 3",
   "language": "python",
   "name": "python3"
  },
  "language_info": {
   "codemirror_mode": {
    "name": "ipython",
    "version": 3
   },
   "file_extension": ".py",
   "mimetype": "text/x-python",
   "name": "python",
   "nbconvert_exporter": "python",
   "pygments_lexer": "ipython3",
   "version": "3.6.10"
  }
 },
 "nbformat": 4,
 "nbformat_minor": 4
}
