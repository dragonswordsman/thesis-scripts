{
 "cells": [
  {
   "cell_type": "code",
   "execution_count": null,
   "metadata": {},
   "outputs": [],
   "source": [
    "import pandas as pd\n",
    "import altair as alt\n",
    "import matplotlib.pyplot as plt"
   ]
  },
  {
   "cell_type": "markdown",
   "metadata": {},
   "source": [
    "## 1. StreamVByte"
   ]
  },
  {
   "cell_type": "code",
   "execution_count": null,
   "metadata": {},
   "outputs": [],
   "source": [
    "streamvbyte = pd.read_csv('traces/streamvbyte/trace.csv', header=0,\n",
    "                          usecols=['tick', 'fu used', 'width'])\n",
    "streamvbyte['cycle'] = (streamvbyte['tick'] - streamvbyte['tick'].iloc[0]) / 500 \n",
    "streamvbyte.shape"
   ]
  },
  {
   "cell_type": "code",
   "execution_count": null,
   "metadata": {},
   "outputs": [],
   "source": [
    "start = 3903100\n",
    "N = 2000\n",
    "sl = slice(start, start+N)\n",
    "df1 = streamvbyte.iloc[sl].copy()\n",
    "\n",
    "print('The average unit usage is: {}'.format(df1['fu used'].mean()))\n",
    "print('The width required is: {}'.format(df1['width'].mean()))\n",
    "\n",
    "x = df1['cycle'] - df1['cycle'].iloc[0]\n",
    "y1 = df1['fu used']\n",
    "y2 = df1['width']\n",
    "\n",
    "fig, (ax1, ax2) = plt.subplots(2, 1, sharex=True)\n",
    "ax1.plot(x, y1)\n",
    "ax1.set_yticks([0, 1, 2, 3])\n",
    "ax1.grid(axis='y')\n",
    "ax1.set_ylabel('Active SIMD Units')\n",
    "ax2.plot(x, y2)\n",
    "ax2.set_yticks([0, 128, 256, 384])\n",
    "ax2.grid(axis='y')\n",
    "ax2.set_ylabel('Width [bits]')\n",
    "ax2.set_xlim(0, N)\n",
    "ax2.set_xlabel('Clock Cycle')\n",
    "fig.align_ylabels()\n",
    "\n",
    "#fig.savefig('./plots/trace_streamvbyte.pdf', bbox_inches='tight')"
   ]
  },
  {
   "cell_type": "code",
   "execution_count": null,
   "metadata": {},
   "outputs": [],
   "source": [
    "del streamvbyte"
   ]
  },
  {
   "cell_type": "code",
   "execution_count": null,
   "metadata": {},
   "outputs": [],
   "source": [
    "df_aux = df1[df1['fu used'] > 0]\n",
    "s_aux = df_aux['width'] / 128 / df_aux['fu used']\n",
    "print('The average usage of each unit is {0:.2f}'.format(s_aux.mean()))"
   ]
  },
  {
   "cell_type": "code",
   "execution_count": null,
   "metadata": {},
   "outputs": [],
   "source": [
    "av = df1[df1['fu used'] > 1]['width'].mean()\n",
    "m = df1[df1['fu used'] > 1]['width'].max()\n",
    "f = df1[df1['fu used'] > 1].shape[0] / 2000\n",
    "print('When 2 or 3 units are in use ({}), one average only {} bits are used, with a max of {}'.format(f, av, m))"
   ]
  },
  {
   "cell_type": "markdown",
   "metadata": {},
   "source": [
    "## 2. IntegerNN"
   ]
  },
  {
   "cell_type": "code",
   "execution_count": null,
   "metadata": {},
   "outputs": [],
   "source": [
    "integerNN = pd.read_csv('traces/integerNN/trace.csv', header=0,\n",
    "                        usecols=['tick', 'fu used', 'width'])\n",
    "integerNN['cycle'] = (integerNN['tick'] - integerNN['tick'].iloc[0]) / 500 \n",
    "\n",
    "integerNN.shape"
   ]
  },
  {
   "cell_type": "code",
   "execution_count": null,
   "metadata": {},
   "outputs": [],
   "source": [
    "start = 26001750\n",
    "N = 2000\n",
    "sl = slice(start, start+N)\n",
    "df2 = integerNN.iloc[sl].copy()\n",
    "\n",
    "print('The average unit usage is: {}'.format(df2['fu used'].mean()))\n",
    "print('The width required is: {}'.format(df2['width'].mean()))\n",
    "\n",
    "x = df2['cycle'] - df2['cycle'].iloc[0]\n",
    "y1 = df2['fu used']\n",
    "y2 = df2['width']\n",
    "\n",
    "fig, (ax1, ax2) = plt.subplots(2, 1, sharex=True)\n",
    "ax1.plot(x, y1)\n",
    "ax1.set_yticks([0, 1, 2, 3])\n",
    "ax1.grid(axis='y')\n",
    "ax1.set_ylabel('Active SIMD Units')\n",
    "ax2.plot(x, y2)\n",
    "ax2.set_yticks([0, 128, 256, 384])\n",
    "ax2.grid(axis='y')\n",
    "ax2.set_ylabel('Width [bits]')\n",
    "ax2.set_xlim(0, N)\n",
    "ax2.set_xlabel('Clock Cycle')\n",
    "fig.align_ylabels()\n",
    "\n",
    "#fig.savefig('./plots/trace_integerNN.pdf', bbox_inches='tight')"
   ]
  },
  {
   "cell_type": "code",
   "execution_count": null,
   "metadata": {},
   "outputs": [],
   "source": [
    "del integerNN"
   ]
  },
  {
   "cell_type": "code",
   "execution_count": null,
   "metadata": {},
   "outputs": [],
   "source": [
    "df_aux = df2[df2['fu used'] > 0]\n",
    "s_aux = df_aux['width'] / 128 / df_aux['fu used']\n",
    "print('The average usage of each unit is {0:.2f}'.format(s_aux.mean()))"
   ]
  },
  {
   "cell_type": "code",
   "execution_count": null,
   "metadata": {},
   "outputs": [],
   "source": [
    "av = df2[df2['fu used'] > 2]['width'].mean()\n",
    "m = df2[df2['fu used'] > 2]['width'].max()\n",
    "f = df2[df2['fu used'] > 2].shape[0] / 2000\n",
    "print('When 3 units are in use ({}), on average only {:.2f} bits are used ({:.2f}% of the full width)'.format(f, av, av/(128*3)*100))"
   ]
  },
  {
   "cell_type": "code",
   "execution_count": null,
   "metadata": {},
   "outputs": [],
   "source": [
    "a = df2[df2['fu used'] == 3].shape[0]\n",
    "b = df2[(df2['fu used'] == 3) & (df2['width'] > (2*128))].shape[0]\n",
    "\n",
    "print('The third unit is only required in {} of the cycle, when in fact it is used in {}.'.format(b/2000*100, a/2000*100))"
   ]
  },
  {
   "cell_type": "markdown",
   "metadata": {},
   "source": [
    "## 3. Cartoon"
   ]
  },
  {
   "cell_type": "code",
   "execution_count": null,
   "metadata": {},
   "outputs": [],
   "source": [
    "cartoon = pd.read_csv('traces/cartoon/trace.csv', header=0,\n",
    "                      usecols=['tick', 'fu used', 'width'])\n",
    "cartoon['cycle'] = (cartoon['tick'] - cartoon['tick'].iloc[0]) / 500 \n",
    "cartoon.shape"
   ]
  },
  {
   "cell_type": "code",
   "execution_count": null,
   "metadata": {},
   "outputs": [],
   "source": [
    "start = 62500000\n",
    "N = 2000\n",
    "sl = slice(start, start+N)\n",
    "df3 = cartoon.iloc[sl].copy()\n",
    "\n",
    "print('The average unit usage is: {}'.format(df3['fu used'].mean()))\n",
    "print('The width required is: {}'.format(df3['width'].mean()))\n",
    "\n",
    "x = df3['cycle'] - df3['cycle'].iloc[0]\n",
    "y1 = df3['fu used']\n",
    "y2 = df3['width']\n",
    "\n",
    "fig, (ax1, ax2) = plt.subplots(2, 1, sharex=True)\n",
    "ax1.plot(x, y1)\n",
    "ax1.set_yticks([0, 1, 2, 3])\n",
    "ax1.grid(axis='y')\n",
    "ax1.set_ylabel('Active SIMD Units')\n",
    "ax2.plot(x, y2)\n",
    "ax2.set_yticks([0, 128, 256, 384])\n",
    "ax2.grid(axis='y')\n",
    "ax2.set_ylabel('Width [bits]')\n",
    "ax2.set_xlim(0, N)\n",
    "ax2.set_xlabel('Clock Cycle')\n",
    "fig.align_ylabels()\n",
    "\n",
    "#fig.savefig('./plots/trace_cartoon.pdf', bbox_inches='tight')"
   ]
  },
  {
   "cell_type": "code",
   "execution_count": null,
   "metadata": {},
   "outputs": [],
   "source": [
    "del cartoon"
   ]
  },
  {
   "cell_type": "code",
   "execution_count": null,
   "metadata": {},
   "outputs": [],
   "source": [
    "av = df3[df3['fu used'] > 2]['width'].mean()\n",
    "m = df3[df3['fu used'] > 2]['width'].max()\n",
    "f = df3[df3['fu used'] > 2].shape[0] / 2000\n",
    "print('When 3 units are in use ({}), on average only {:.2f} bits are used ({:.2f}% of the full width)'.format(f, av, av/(128*3)*100))"
   ]
  },
  {
   "cell_type": "code",
   "execution_count": null,
   "metadata": {},
   "outputs": [],
   "source": [
    "df_aux = df3[df3['fu used'] > 0]\n",
    "s_aux = df_aux['width'] / 128 / df_aux['fu used']\n",
    "print('The average usage of each unit is {0:.2f}'.format(s_aux.mean()))"
   ]
  },
  {
   "cell_type": "code",
   "execution_count": null,
   "metadata": {},
   "outputs": [],
   "source": []
  }
 ],
 "metadata": {
  "kernelspec": {
   "display_name": "Python 3",
   "language": "python",
   "name": "python3"
  },
  "language_info": {
   "codemirror_mode": {
    "name": "ipython",
    "version": 3
   },
   "file_extension": ".py",
   "mimetype": "text/x-python",
   "name": "python",
   "nbconvert_exporter": "python",
   "pygments_lexer": "ipython3",
   "version": "3.6.10"
  }
 },
 "nbformat": 4,
 "nbformat_minor": 4
}
