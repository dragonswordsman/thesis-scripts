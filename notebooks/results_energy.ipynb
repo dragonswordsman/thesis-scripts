{
 "cells": [
  {
   "cell_type": "code",
   "execution_count": null,
   "metadata": {},
   "outputs": [],
   "source": [
    "from pathlib import Path\n",
    "import pandas as pd\n",
    "import altair as alt"
   ]
  },
  {
   "cell_type": "code",
   "execution_count": null,
   "metadata": {},
   "outputs": [],
   "source": [
    "configs = {'LP-2fu-nofuse':'LP-NF-2', 'LP-2fu-fuse':'LP-F-2',\n",
    "           'LP-1fu-nofuse':'LP-NF-1', 'LP-1fu-fuse':'LP-F-1',\n",
    "           'HP-3fu-nofuse':'HP-NF-3', 'HP-3fu-fuse':'HP-F-3', \n",
    "           'HP-2fu-nofuse':'HP-NF-2', 'HP-2fu-fuse':'HP-F-2',\n",
    "           'HP-1fu-nofuse':'HP-NF-1', 'HP-1fu-fuse':'HP-F-1'\n",
    "          }\n",
    "configs"
   ]
  },
  {
   "cell_type": "code",
   "execution_count": null,
   "metadata": {},
   "outputs": [],
   "source": [
    "configs_ref = {'LP-NF-1':'LP-NF-2', 'LP-F-2':'LP-NF-2', 'LP-F-1':'LP-NF-2', 'HP-NF-2':'HP-NF-3', 'HP-NF-1':'HP-NF-3', 'HP-F-3':'HP-NF-3', 'HP-F-2':'HP-NF-3', 'HP-F-1':'HP-NF-3',\n",
    "               'HP-FP-3':'HP-NF-3', 'HP-FP-2':'HP-NF-3', 'HP-FP-1':'HP-NF-3'}\n",
    "configs_lp  = ['LP-NF-1', 'LP-F-2', 'LP-F-1']\n",
    "configs_hp  = ['HP-NF-2', 'HP-NF-1', 'HP-F-3', 'HP-F-2', 'HP-F-1', 'HP-FP-3', 'HP-FP-2', 'HP-FP-1']\n",
    "\n",
    "configs_fuse = ['LP-F-2', 'LP-F-1', 'HP-F-3', 'HP-F-2', 'HP-F-1']"
   ]
  },
  {
   "cell_type": "code",
   "execution_count": null,
   "metadata": {},
   "outputs": [],
   "source": [
    "benchmarks = {\n",
    "    'hmmer-small_0':'hmmer',\n",
    "    #'libquantum-small_0':'libquantum',\n",
    "    #'blackscholes_simsmall_1_0':'blackscholes',\n",
    "    #'freqmine_simsmall_1_0':'freqmine',\n",
    "    #'swaptions_simsmall_1_0':'swaptions',\n",
    "    'integerNN_0':'integerNN',\n",
    "    'streamvbyte_0':'streamvbyte',\n",
    "    'img_cartoon_image1_0':'cartoon',\n",
    "    'img_cartoon_image2_0':'cartoon',\n",
    "    'img_cartoon_image3_0':'cartoon',\n",
    "    'img_cartoon_image4_0':'cartoon',\n",
    "    'img_cartoon_image5_0':'cartoon',\n",
    "    'img_canny_image1_0':'canny',\n",
    "    'img_canny_image2_0':'canny',\n",
    "    'img_canny_image3_0':'canny',\n",
    "    'img_canny_image4_0':'canny',\n",
    "    'img_canny_image5_0':'canny',\n",
    "    #'img_hist_image1_0':'hist',\n",
    "    #'img_hist_image2_0':'hist',\n",
    "    #'img_hist_image3_0':'hist',\n",
    "    #'img_hist_image4_0':'hist',\n",
    "    #'img_hist_image5_0':'hist',\n",
    "    'img_integral_image1_0':'img_integral',\n",
    "    'img_integral_image2_0':'img_integral',\n",
    "    'img_integral_image3_0':'img_integral',\n",
    "    'img_integral_image4_0':'img_integral',\n",
    "    'img_integral_image5_0':'img_integral',\n",
    "    'conv_image1_0':'conv',\n",
    "    'conv_image2_0':'conv',\n",
    "    'conv_image3_0':'conv',\n",
    "    'conv_image4_0':'conv',\n",
    "    'conv_image5_0':'conv',\n",
    "    'img_erode_image1_0':'erode',\n",
    "    'img_erode_image2_0':'erode',\n",
    "    'img_erode_image3_0':'erode',\n",
    "    'img_erode_image4_0':'erode',\n",
    "    'img_erode_image5_0':'erode',\n",
    "    'img_median_image1_0':'median',\n",
    "    'img_median_image2_0':'median',\n",
    "    'img_median_image3_0':'median',\n",
    "    'img_median_image4_0':'median',\n",
    "    'img_median_image5_0':'median',\n",
    "    #'img_yuv444_image1_0':'img_yuv444',\n",
    "    #'img_yuv444_image2_0':'img_yuv444',\n",
    "    #'img_yuv444_image3_0':'img_yuv444',\n",
    "    #'img_yuv444_image4_0':'img_yuv444',\n",
    "    #'img_yuv444_image5_0':'img_yuv444',\n",
    "    'amax_cols_normal_16bit_0_0':'amax',\n",
    "    'amax_cols_normal_16bit_1_0':'amax',\n",
    "    'amax_cols_normal_16bit_2_0':'amax',\n",
    "    'amax_cols_normal_16bit_3_0':'amax',\n",
    "    'amax_cols_normal_16bit_4_0':'amax',\n",
    "    #'asum_cols_normal_16bit_0_0':'asum',\n",
    "    #'asum_cols_normal_16bit_1_0':'asum',\n",
    "    #'asum_cols_normal_16bit_2_0':'asum',\n",
    "    #'asum_cols_normal_16bit_3_0':'asum',\n",
    "    #'asum_cols_normal_16bit_4_0':'asum',\n",
    "    #'gemv_normal_16bit_0_0':'gemv',\n",
    "    #'gemv_normal_16bit_1_0':'gemv',\n",
    "    #'gemv_normal_16bit_2_0':'gemv',\n",
    "    #'gemv_normal_16bit_3_0':'gemv',\n",
    "    #'gemv_normal_16bit_4_0':'gemv',\n",
    "    #'ger_normal_16bit_0_0':'ger',\n",
    "    #'ger_normal_16bit_1_0':'ger',\n",
    "    #'ger_normal_16bit_2_0':'ger',\n",
    "    #'ger_normal_16bit_3_0':'ger',\n",
    "    #'ger_normal_16bit_4_0':'ger',\n",
    "    'sqnrm2_cols_normal_16bit_0_0':'sqnrm2',\n",
    "    'sqnrm2_cols_normal_16bit_1_0':'sqnrm2',\n",
    "    'sqnrm2_cols_normal_16bit_2_0':'sqnrm2',\n",
    "    'sqnrm2_cols_normal_16bit_3_0':'sqnrm2',\n",
    "    'sqnrm2_cols_normal_16bit_4_0':'sqnrm2',\n",
    "    'gemm_normal_16bit_0_0':'gemm',\n",
    "    'gemm_normal_16bit_1_0':'gemm',\n",
    "    'gemm_normal_16bit_2_0':'gemm',\n",
    "    'gemm_normal_16bit_3_0':'gemm',\n",
    "    'gemm_normal_16bit_4_0':'gemm',\n",
    "    'fft_normal_8bit_0_0':'fft',\n",
    "    'fft_normal_8bit_1_0':'fft',\n",
    "    'fft_normal_8bit_2_0':'fft',\n",
    "    'fft_normal_8bit_3_0':'fft',\n",
    "    'fft_normal_8bit_4_0':'fft',\n",
    "}\n",
    "\n",
    "bench_order = ['hmmer', 'streamvbyte', 'integerNN', 'cartoon', 'sqnrm2', 'amax', 'gemm', 'fft', 'conv', 'median', 'img_integral', 'canny', 'erode']"
   ]
  },
  {
   "cell_type": "code",
   "execution_count": null,
   "metadata": {},
   "outputs": [],
   "source": [
    "component = 'fp/simd alu'"
   ]
  },
  {
   "cell_type": "code",
   "execution_count": null,
   "metadata": {},
   "outputs": [],
   "source": [
    "graph_names = {'Dynamic':'Dynamic Energy [%]', \n",
    "               #'Leakage':'Leakage Energy [%]',\n",
    "               'Total':'Total Energy [%]',\n",
    "               'Dynamic Gating':'Dynamic Energy (Gating) [%]', \n",
    "               #'Leakage Gating':'Leakage Energy (Gating) [%]',\n",
    "               'Total Gating':'Total Energy (Gating) [%]',\n",
    "               'Time':'Slow-down'}\n",
    "graph_order = ['Normalized Dynamic Energy', \n",
    "               'Normalized Leakage Energy',\n",
    "               'Normalized Total Energy',\n",
    "               'Normalized Dynamic Energy with Partial Gating',\n",
    "               'Normalized Leakage Energy with Partial Gating',\n",
    "               'Normalized Total Energy with Partial Gating',\n",
    "               'Normalized Execution Time']"
   ]
  },
  {
   "cell_type": "code",
   "execution_count": null,
   "metadata": {},
   "outputs": [],
   "source": [
    "stats = Path('./stats/')\n",
    "stats = stats.glob('**/roi.txt')\n",
    "stats = list(stats)\n",
    "stats = [p.parents[0] for p in stats]\n",
    "#stats"
   ]
  },
  {
   "cell_type": "code",
   "execution_count": null,
   "metadata": {},
   "outputs": [],
   "source": [
    "df = []\n",
    "\n",
    "for s in stats:\n",
    "    bench  = s.name\n",
    "    config = s.parents[1].name\n",
    "    \n",
    "    if bench in benchmarks.keys() and config in configs.keys():\n",
    "        time  = pd.read_csv(s/'time.csv')\n",
    "        try:\n",
    "            time  = float(time['sim seconds'])\n",
    "        except TypeError:\n",
    "            continue\n",
    "\n",
    "        mcpat = pd.read_csv(s/'power.csv')\n",
    "        mcpat = mcpat[mcpat['Component'] == component]\n",
    "        mcpat_gating = pd.read_csv(s/'power_clkgated.csv')\n",
    "        mcpat_gating = mcpat_gating[mcpat_gating['Component'] == component]\n",
    "\n",
    "        dynamic = float(mcpat['Runtime Dynamic [W]']) * time\n",
    "        leakage = float(mcpat.loc[:, ['Gate Leakage [W]', 'Subthreshold Leakage [W]']].sum(axis='columns')) * time\n",
    "        dynamic_gating = float(mcpat_gating['Runtime Dynamic [W]']) * time\n",
    "        leakage_gating = float(mcpat_gating.loc[:, ['Gate Leakage [W]', 'Subthreshold Leakage [W]']].sum(axis='columns')) * time\n",
    "        \n",
    "        df.append({'Benchmark':bench, 'Config':config, 'Time':time,\n",
    "                   'Dynamic':dynamic, 'Leakage':leakage, 'Total':dynamic+leakage,\n",
    "                   'Dynamic Gating':dynamic_gating, 'Leakage Gating':leakage_gating,\n",
    "                   'Total Gating':dynamic_gating+leakage_gating})\n",
    "        \n",
    "df = pd.DataFrame(df)\n",
    "df"
   ]
  },
  {
   "cell_type": "code",
   "execution_count": null,
   "metadata": {},
   "outputs": [],
   "source": [
    "df2 = df[df['Config'].isin(configs.keys()) & df['Benchmark'].isin(benchmarks.keys())].copy()\n",
    "df2['Config'] = df2['Config'].replace(configs)\n",
    "df2['Ref'] = df2['Config'].replace(configs_ref)\n",
    "df2"
   ]
  },
  {
   "cell_type": "code",
   "execution_count": null,
   "metadata": {},
   "outputs": [],
   "source": [
    "df3 = df2.merge(df2, left_on=['Benchmark', 'Ref'], right_on=['Benchmark', 'Config'], suffixes=('', ' ref')).copy()\n",
    "df3['Time'] = 100 * df3['Time'] / df3['Time ref']\n",
    "df3['Dynamic'] = 100 * df3['Dynamic'] / df3['Dynamic ref']\n",
    "df3['Leakage'] = 100 * df3['Leakage'] / df3['Leakage ref']\n",
    "df3['Total'] = 100* df3['Total'] / df3['Total ref']\n",
    "df3['Dynamic Gating'] = 100 * df3['Dynamic Gating'] / df3['Dynamic ref']\n",
    "df3['Leakage Gating'] = 100 * df3['Leakage Gating'] / df3['Leakage ref']\n",
    "df3['Total Gating'] = 100 * df3['Total Gating'] / df3['Total ref']\n",
    "df3 = df3.drop(columns=['Ref', 'Config ref', 'Time ref', 'Dynamic ref', 'Leakage ref', 'Total ref', 'Ref ref', \n",
    "                        'Dynamic Gating ref', 'Leakage Gating ref', 'Total Gating ref'])\n",
    "df3"
   ]
  },
  {
   "cell_type": "code",
   "execution_count": null,
   "metadata": {},
   "outputs": [],
   "source": [
    "df4 = df3.set_index(['Config', 'Benchmark'])\n",
    "df4 = df4.groupby(by=[None, benchmarks], level=['Config', 'Benchmark']).mean()\n",
    "df4"
   ]
  },
  {
   "cell_type": "code",
   "execution_count": null,
   "metadata": {},
   "outputs": [],
   "source": [
    "(df4['Dynamic'] - df4['Dynamic Gating']).mean()"
   ]
  },
  {
   "cell_type": "code",
   "execution_count": null,
   "metadata": {},
   "outputs": [],
   "source": [
    "(df4['Dynamic'] - df4['Dynamic Gating'])[configs_fuse].mean()"
   ]
  },
  {
   "cell_type": "code",
   "execution_count": null,
   "metadata": {},
   "outputs": [],
   "source": [
    "(df4['Total Gating']['HP-NF-2'] - df4['Total Gating']['HP-F-2'])[['erode', 'median']].mean()"
   ]
  },
  {
   "cell_type": "code",
   "execution_count": null,
   "metadata": {},
   "outputs": [],
   "source": [
    "(df4['Total Gating']['HP-NF-1'] - df4['Total Gating']['HP-F-1'])['gemm'].mean()"
   ]
  },
  {
   "cell_type": "code",
   "execution_count": null,
   "metadata": {},
   "outputs": [],
   "source": [
    "def bar_plot(df, configs_order, spx=alt.Undefined):\n",
    "    chart = alt.Chart(df).mark_bar(size=18).encode(\n",
    "        y=alt.Y(\n",
    "            'Config:N',\n",
    "            sort=configs_order,\n",
    "            title=\"\"\n",
    "        ),\n",
    "        x=alt.X(\n",
    "            'Value:Q',\n",
    "            axis=alt.Axis(orient='top'),\n",
    "            title=\"\"\n",
    "        ),\n",
    "        column=alt.Column(\n",
    "            'Var:N',\n",
    "            sort=graph_order,\n",
    "            title=\"\"\n",
    "        ),\n",
    "        row=alt.Row(\n",
    "            'Benchmark:N',\n",
    "            sort=bench_order,\n",
    "            spacing=spx\n",
    "        ),\n",
    "        color=alt.Color(\n",
    "            'Config:N',\n",
    "            sort=configs_order,\n",
    "            scale=alt.Scale(scheme='yellowgreenblue')\n",
    "        )\n",
    "    ).properties(\n",
    "        width=300,\n",
    "        height=alt.Step(22)\n",
    "    )\n",
    "    \n",
    "    return chart"
   ]
  },
  {
   "cell_type": "code",
   "execution_count": null,
   "metadata": {},
   "outputs": [],
   "source": [
    "df_hp = df4.copy().reset_index()\n",
    "df_hp = df_hp[df_hp['Config'].isin(configs_hp)]\n",
    "df_hp = pd.melt(df_hp, id_vars=['Config', 'Benchmark'], var_name='Var', value_name='Value')\n",
    "df_hp = df_hp[df_hp['Var'].isin(list(graph_names.keys()))]\n",
    "df_hp['Var'] = df_hp['Var'].replace(graph_names)\n",
    "df_hp"
   ]
  },
  {
   "cell_type": "code",
   "execution_count": null,
   "metadata": {},
   "outputs": [],
   "source": [
    "hp_energy = bar_plot(df_hp[~(df_hp['Var'] == 'Slow-down')], configs_hp)\n",
    "hp_time = bar_plot(df_hp[df_hp['Var'] == 'Slow-down'], configs_hp)\n",
    "hp_chart = alt.concat(hp_energy, hp_time).configure_axis(\n",
    "    labelFontSize=16, titleFontSize=16,\n",
    ").configure_header(\n",
    "    labelFontSize=18, titleFontSize=18\n",
    ").configure_legend(\n",
    "    titleFontSize=18, labelFontSize=18, orient='top'\n",
    ")\n",
    "hp_chart"
   ]
  },
  {
   "cell_type": "code",
   "execution_count": null,
   "metadata": {},
   "outputs": [],
   "source": [
    "hp_chart.save('plots/hp_compare_gating.svg', webdriver='firefox')"
   ]
  },
  {
   "cell_type": "code",
   "execution_count": null,
   "metadata": {},
   "outputs": [],
   "source": [
    "df_lp = df4.copy().reset_index()\n",
    "df_lp = df_lp[df_lp['Config'].isin(configs_lp)]\n",
    "df_lp = pd.melt(df_lp, id_vars=['Config', 'Benchmark'], var_name='Var', value_name='Value')\n",
    "df_lp['Var'] = df_lp['Var'].replace(graph_names)\n",
    "df_lp"
   ]
  },
  {
   "cell_type": "code",
   "execution_count": null,
   "metadata": {},
   "outputs": [],
   "source": [
    "lp_energy = bar_plot(df_lp[~(df_lp['Var'] == 'Normalized Execution Time')], configs_lp, spx=30)\n",
    "lp_time = bar_plot(df_lp[df_lp['Var'] == 'Normalized Execution Time'], configs_lp, spx=30)\n",
    "lp_chart = alt.concat(lp_energy, lp_time).configure_axis(\n",
    "    labelFontSize=16, titleFontSize=16\n",
    ").configure_header(\n",
    "    labelFontSize=17, titleFontSize=18\n",
    ").configure_legend(\n",
    "    titleFontSize=18, labelFontSize=18, orient='top'\n",
    ")\n",
    "lp_chart"
   ]
  },
  {
   "cell_type": "code",
   "execution_count": null,
   "metadata": {},
   "outputs": [],
   "source": [
    "# lp_chart.save('plots/lp_energy_time.svg', webdriver='firefox')"
   ]
  }
 ],
 "metadata": {
  "kernelspec": {
   "display_name": "Python 3",
   "language": "python",
   "name": "python3"
  },
  "language_info": {
   "codemirror_mode": {
    "name": "ipython",
    "version": 3
   },
   "file_extension": ".py",
   "mimetype": "text/x-python",
   "name": "python",
   "nbconvert_exporter": "python",
   "pygments_lexer": "ipython3",
   "version": "3.6.10"
  }
 },
 "nbformat": 4,
 "nbformat_minor": 4
}
